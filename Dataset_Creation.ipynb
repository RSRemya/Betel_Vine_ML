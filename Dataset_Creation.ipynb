{
 "cells": [
  {
   "cell_type": "code",
   "execution_count": 1,
   "id": "9793ffa8-3f40-4d6d-b3f5-516a0e5e6f55",
   "metadata": {},
   "outputs": [
    {
     "name": "stdout",
     "output_type": "stream",
     "text": [
      "Dataset saved as 'soil_fertility_betelvine.csv'\n"
     ]
    }
   ],
   "source": [
    "import pandas as pd\n",
    "import numpy as np\n",
    "\n",
    "num_rows = 10000\n",
    "np.random.seed(42)\n",
    "\n",
    "data = {\n",
    "    \"pH\": np.round(np.random.uniform(6.5, 8.0, num_rows), 2),\n",
    "    \"Electrical_Conductivity\": np.round(np.random.uniform(0.1, 1.0, num_rows), 2),\n",
    "    \"Organic_Carbon\": np.round(np.random.uniform(0.5, 1.2, num_rows), 2),\n",
    "    \"Available_Nitrogen\": np.random.randint(250, 400, num_rows),\n",
    "    \"Available_Phosphorus\": np.random.randint(10, 40, num_rows),\n",
    "    \"Available_Potassium\": np.random.randint(180, 300, num_rows),\n",
    "    \"Exchangeable_Calcium\": np.round(np.random.uniform(1.5, 5.0, num_rows), 2),\n",
    "    \"Exchangeable_Magnesium\": np.round(np.random.uniform(0.5, 2.5, num_rows), 2),\n",
    "    \"Available_Sulfur\": np.random.randint(5, 20, num_rows),\n",
    "    \"Iron\": np.round(np.random.uniform(5, 25, num_rows), 2),\n",
    "    \"Manganese\": np.round(np.random.uniform(2, 10, num_rows), 2),\n",
    "    \"Zinc\": np.round(np.random.uniform(0.5, 2.0, num_rows), 2),\n",
    "    \"Copper\": np.round(np.random.uniform(0.2, 1.0, num_rows), 2),\n",
    "    \"Soil_Depth\": np.random.choice([\"Surface\", \"Subsurface\"], num_rows),\n",
    "    \"Soil_Type\": np.random.choice([\"Loamy\", \"Sandy\", \"Clayey\", \"Mixed\"], num_rows),\n",
    "}\n",
    "\n",
    "df = pd.DataFrame(data)\n",
    "\n",
    "def is_fit_for_betel_vine(row):\n",
    "    if (6.5 <= row[\"pH\"] <= 8.0 and\n",
    "        row[\"Electrical_Conductivity\"] < 1.0 and\n",
    "        row[\"Organic_Carbon\"] >= 0.5 and\n",
    "        row[\"Available_Nitrogen\"] >= 280 and\n",
    "        row[\"Available_Phosphorus\"] >= 10 and\n",
    "        row[\"Available_Potassium\"] >= 180 and\n",
    "        row[\"Exchangeable_Calcium\"] >= 1.5 and\n",
    "        row[\"Exchangeable_Magnesium\"] >= 1.0):\n",
    "        return \"Yes\"\n",
    "    else:\n",
    "        return \"No\"\n",
    "\n",
    "df[\"Fit_for_Betel_Vine\"] = df.apply(is_fit_for_betel_vine, axis=1)\n",
    "\n",
    "df.to_csv(\"soil_fertility_betelvine.csv\", index=False)\n",
    "print(\"Dataset saved as 'soil_fertility_betelvine.csv'\")"
   ]
  },
  {
   "cell_type": "code",
   "execution_count": null,
   "id": "85985a77-1649-432a-a222-aa046a4ebed7",
   "metadata": {},
   "outputs": [],
   "source": []
  }
 ],
 "metadata": {
  "kernelspec": {
   "display_name": "Python 3 (ipykernel)",
   "language": "python",
   "name": "python3"
  },
  "language_info": {
   "codemirror_mode": {
    "name": "ipython",
    "version": 3
   },
   "file_extension": ".py",
   "mimetype": "text/x-python",
   "name": "python",
   "nbconvert_exporter": "python",
   "pygments_lexer": "ipython3",
   "version": "3.11.1"
  }
 },
 "nbformat": 4,
 "nbformat_minor": 5
}
